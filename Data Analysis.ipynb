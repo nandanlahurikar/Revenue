{
  "cells": [
    {
      "metadata": {
        "_uuid": "8f2839f25d086af736a60e9eeb907d3b93b6e0e5",
        "_cell_guid": "b1076dfc-b9ad-4769-8c92-a6c4dae69d19",
        "trusted": true
      },
      "cell_type": "code",
      "source": "# This Python 3 environment comes with many helpful analytics libraries installed\n# It is defined by the kaggle/python docker image: https://github.com/kaggle/docker-python\n# For example, here's several helpful packages to load in \n\nimport numpy as np # linear algebra\nimport pandas as pd # data processing, CSV file I/O (e.g. pd.read_csv)\nimport json\n# Input data files are available in the \"../input/\" directory.\n# For example, running this (by clicking run or pressing Shift+Enter) will list the files in the input directory\n\nimport os\nprint(os.listdir(\"../input\"))\nfrom sklearn.metrics import confusion_matrix\nimport matplotlib.pyplot as plt\nimport seaborn as sns\n# Any results you write to the current directory are saved as output.",
      "execution_count": null,
      "outputs": []
    },
    {
      "metadata": {
        "_cell_guid": "79c7e3d0-c299-4dcb-8224-4455121ee9b0",
        "_uuid": "d629ff2d2480ee46fbb7e2d37f6b5fab8052498a",
        "trusted": true
      },
      "cell_type": "code",
      "source": "\ndf = pd.read_csv('../input/train.csv') #parse_dates=['date'])",
      "execution_count": null,
      "outputs": []
    },
    {
      "metadata": {
        "trusted": true,
        "_uuid": "e03a954f41b83f55f5a6c4f0142c0b34d937bd25"
      },
      "cell_type": "code",
      "source": "df.head()",
      "execution_count": null,
      "outputs": []
    },
    {
      "metadata": {
        "trusted": true,
        "_uuid": "8da6ab20105c769a2565f14ab49c05102ee6ac0c"
      },
      "cell_type": "code",
      "source": "# Create new dataframes from JSON fields\n\ndevice_df = df.device.apply(json.loads).values.tolist()\ndevice_df = pd.DataFrame.from_records(device_df)\n\ngeoNetwork_df = df.geoNetwork.apply(json.loads).values.tolist()\ngeoNetwork_df = pd.DataFrame.from_records(geoNetwork_df)\n\ntotals_df = df.totals.apply(json.loads).values.tolist()\ntotals_df = pd.DataFrame.from_records(totals_df)\n\ntrafficSource_df = df.trafficSource.apply(json.loads).values.tolist()\ntrafficSource_df = pd.DataFrame.from_records(trafficSource_df)\n",
      "execution_count": null,
      "outputs": []
    },
    {
      "metadata": {
        "trusted": true,
        "_uuid": "3c91c6f34b3acde9118c6b251656e335e91e639a"
      },
      "cell_type": "code",
      "source": "df.drop(['device', 'geoNetwork', 'totals', 'trafficSource'], axis=1, inplace=True)\ndf = pd.concat([df, geoNetwork_df, device_df, totals_df, trafficSource_df], axis=1)",
      "execution_count": null,
      "outputs": []
    },
    {
      "metadata": {
        "trusted": true,
        "_uuid": "91c5d7f4ee4de3eaf76f4e7f63aba42e5b0cf4c7"
      },
      "cell_type": "code",
      "source": "for d in df:\n    df['date'] = pd.to_datetime(df['visitStartTime'], unit='s')\n    df['day_of_week'] = df['date'].dt.dayofweek\n    df['hour_of_day'] = df['date'].dt.hour\n    df['day_of_month'] = df['date'].dt.day\n    df['year'] = df['date'].dt.year",
      "execution_count": null,
      "outputs": []
    },
    {
      "metadata": {
        "trusted": true,
        "_uuid": "c835dc5c7404206175fe04a78b87d76ae9fb1567"
      },
      "cell_type": "code",
      "source": "df.head()",
      "execution_count": null,
      "outputs": []
    },
    {
      "metadata": {
        "trusted": true,
        "_uuid": "c477e911f8282eda9f57307b2862dc592c5cc98f"
      },
      "cell_type": "code",
      "source": "df = df.drop(['latitude','longitude','cityId','networkLocation', 'browserSize','browserVersion',\n        'flashVersion','language','mobileDeviceBranding','mobileDeviceInfo','mobileDeviceMarketingName',\n        'mobileDeviceModel','mobileInputSelector','operatingSystemVersion','screenColors','screenResolution',\n        'adwordsClickInfo'],axis=1)",
      "execution_count": null,
      "outputs": []
    },
    {
      "metadata": {
        "trusted": true,
        "_uuid": "24b973c3913cc4d5efe07d5d1edded8496e07a16"
      },
      "cell_type": "code",
      "source": "df.head()\ndf = df.replace('not available in demo dataset', 'NaN')",
      "execution_count": null,
      "outputs": []
    },
    {
      "metadata": {
        "trusted": true,
        "_uuid": "c3a0e5a21d0bd2f577fed135f5e9cf549a202241"
      },
      "cell_type": "code",
      "source": "df.isnull().sum()",
      "execution_count": null,
      "outputs": []
    },
    {
      "metadata": {
        "trusted": true,
        "_uuid": "8377ed7a4a8e09ec1c1e38d7c8330f752ef39217"
      },
      "cell_type": "code",
      "source": "tR_df = df['transactionRevenue']\ntR_df = tR_df.fillna(0)\ntR_df = tR_df.astype(int)\ndf['transcationRevenue'] = tR_df\ndf['transcationRevenue'].head()",
      "execution_count": null,
      "outputs": []
    },
    {
      "metadata": {
        "trusted": true,
        "_uuid": "01570b26f2f38d27ff6c0ebe9543c13c331d3fe0"
      },
      "cell_type": "code",
      "source": "fig = plt.figure(figsize=(18,6), dpi=1600) \nalpha=alpha_scatterplot = 0.2 \nalpha_bar_chart = 0.55\n",
      "execution_count": null,
      "outputs": []
    },
    {
      "metadata": {
        "trusted": true,
        "_uuid": "e034dd75012d6eb3b074dd73ef9675489d9fa68b"
      },
      "cell_type": "code",
      "source": "#x = df['transactionRevenue']\n#y = df['day_of_month']\n#sns.jointplot(x=\"x\", y=\"y\", data=df, kind= \"kde\")\n",
      "execution_count": null,
      "outputs": []
    },
    {
      "metadata": {
        "trusted": true,
        "_uuid": "0f34ddd20496138a488d2e7f1fcdce9d82136fb6"
      },
      "cell_type": "code",
      "source": "#np.sort(np.log1p(gdf[transactionRevenue\"].values)",
      "execution_count": null,
      "outputs": []
    },
    {
      "metadata": {
        "_uuid": "b9f4e5d4e10d9d56769fbc69f4d3bbc4223a3738"
      },
      "cell_type": "markdown",
      "source": "## Revenue on prifcauer day of a week"
    },
    {
      "metadata": {
        "trusted": true,
        "_uuid": "839138cc6d07f2c4f9f4e8d5b3e5a78ba5966e00"
      },
      "cell_type": "code",
      "source": "#fig = plt.figure(figsize=(18,6), dpi=1600) \n#alpha=alpha_scatterplot = 0.2 \n#alpha_bar_chart = 0.55\nsns.catplot(x=\"day_of_week\", y=\"transactionRevenue\",jitter=False, data=df)\n",
      "execution_count": null,
      "outputs": []
    },
    {
      "metadata": {
        "trusted": true,
        "_uuid": "166a1adcb2d55435a7bc74800321c8ec1fce2fcc"
      },
      "cell_type": "code",
      "source": "#g = sns.catplot(x=\"class\", hue=\"who\", col=\"survived\",data=titanic, kind=\"count\",height=4, aspect=.7);",
      "execution_count": null,
      "outputs": []
    },
    {
      "metadata": {
        "trusted": true,
        "_uuid": "0b433e4d7eb18804dad3d26e4adef856f2c12703"
      },
      "cell_type": "code",
      "source": "'''\ndef plott(a):\n    x = pd.DataFrame()\n    for i in a:\n        if a > 0:\n           x.append(1)\n        else:\n           x.append(0)\n'''    ",
      "execution_count": null,
      "outputs": []
    },
    {
      "metadata": {
        "trusted": true,
        "_uuid": "4a503249ba95239bfffc3cebebc187df7ea1bad6"
      },
      "cell_type": "code",
      "source": "#ab = plott(df['transactionRevenue'])\n#print(df['transactionRevenue'].dtype)",
      "execution_count": null,
      "outputs": []
    },
    {
      "metadata": {
        "trusted": true,
        "_uuid": "06e88add27622162af7e05f3354acbcafec3cff8"
      },
      "cell_type": "code",
      "source": "df.transactionRevenue.value_counts()",
      "execution_count": null,
      "outputs": []
    },
    {
      "metadata": {
        "trusted": true,
        "_uuid": "10ec3e7a02c44bfacaab7dac00247cb1daf1857c"
      },
      "cell_type": "code",
      "source": "f, ax = plt.subplots(figsize=(4,20))\nsns.countplot(y=\"transactionRevenue\", data=df, color=\"c\");",
      "execution_count": null,
      "outputs": []
    },
    {
      "metadata": {
        "trusted": true,
        "_uuid": "72b9140082e84d066fdefa3ebf11ee15d3bb7d0a"
      },
      "cell_type": "code",
      "source": "'''from pandas import DataFrame\n\nNumbers = {'set_of_numbers': [1,2,3,4,5,6,7,8,9,10]}\ndf = DataFrame(Numbers,columns=['set_of_numbers'])\n\ndf.loc[df.set_of_numbers <= 4, 'equal_or_lower_than_4?'] = 0 \ndf.loc[df.set_of_numbers > 4, 'equal_or_lower_than_4?'] = 1 \n\nprint (df)'''",
      "execution_count": null,
      "outputs": []
    },
    {
      "metadata": {
        "trusted": true,
        "scrolled": true,
        "_uuid": "6a183cd8a6f97d32694aef89f94d2a7e6c576c44"
      },
      "cell_type": "code",
      "source": "'''df['revenue'] = np.where(df['transactionRevenue']==0, 0, 1)\ndf.revenue()\n\n#def sor_revenue(x):\n    if input == 0:\n        return 0\n    else:\n        return 1\n    \ndf['revenue'] = df['transactionRevenue'].apply(gender_score)'''",
      "execution_count": null,
      "outputs": []
    },
    {
      "metadata": {
        "trusted": true,
        "_uuid": "bd13d840936c56df443350f897930857ff658c9b"
      },
      "cell_type": "code",
      "source": "#df = df['']\ndf.head()\n#df['revenue'] = df.loc[df.transactionRevenue>= 1,'revenue'] = 1\n",
      "execution_count": null,
      "outputs": []
    },
    {
      "metadata": {
        "trusted": true,
        "_uuid": "eb5c23a76c184532267ea3206f4d2492e467a275"
      },
      "cell_type": "code",
      "source": "dx = df[['city', 'continent', 'country','metro','networkDomain','region','subContinent','browser','deviceCategory', 'isMobile','operatingSystem','keyword','medium','source']].head()",
      "execution_count": null,
      "outputs": []
    },
    {
      "metadata": {
        "trusted": true,
        "_uuid": "42d9ce0160f704febebdf21fd02f877a2da13073"
      },
      "cell_type": "code",
      "source": "def one_hot(x):\n    from sklearn import preprocessing\n    le = preprocessing.LabelEncoder()\n    # 2/3. FIT AND TRANSFORM\n    # use df.apply() to apply le.fit_transform to all columns\n    x = x.astype('category')\n    X_2 = x.apply(le.fit_transform)\n    enc = preprocessing.OneHotEncoder()\n\n    # 2. FIT\n    enc.fit(X_2)\n\n    # 3. Transform\n    onehotlabels = enc.transform(X_2).toarray()\n    return onehotlabels.shape\n    return X_2.head()",
      "execution_count": null,
      "outputs": []
    },
    {
      "metadata": {
        "trusted": true,
        "_uuid": "7477e34c896f531f861d415995749c13cb4c3b7e"
      },
      "cell_type": "code",
      "source": "dx.head()",
      "execution_count": null,
      "outputs": []
    },
    {
      "metadata": {
        "trusted": true,
        "_uuid": "93992ab0da6dc1d487a90fbac9ac1969237d1078"
      },
      "cell_type": "code",
      "source": "#ab = df['country'].fillna(1000)",
      "execution_count": null,
      "outputs": []
    },
    {
      "metadata": {
        "trusted": true,
        "_uuid": "ea565edf5a7f9dc2476b2ede1d3492d4a68969cf",
        "scrolled": true
      },
      "cell_type": "code",
      "source": "df_dummy = df\ndf_dummy.head()",
      "execution_count": null,
      "outputs": []
    },
    {
      "metadata": {
        "trusted": true,
        "_uuid": "0a205fdfafc743ea7f616bb7bb0bcc79158b5977"
      },
      "cell_type": "code",
      "source": "df.isnull().sum()\n#df_dummy = df_dummy.fillna(method= 'bfill',inplace=True)",
      "execution_count": null,
      "outputs": []
    },
    {
      "metadata": {
        "trusted": true,
        "_uuid": "fa12073bdce6cd82bfdadec4ec3c5048ea766b20"
      },
      "cell_type": "code",
      "source": "df = df.replace('not available in demo dataset', 'NaN')\ndf.head()",
      "execution_count": null,
      "outputs": []
    },
    {
      "metadata": {
        "trusted": true,
        "_uuid": "73761b68975c859d43653d3fa2dbcf09cef1aa66"
      },
      "cell_type": "code",
      "source": "df.isnull().sum()",
      "execution_count": null,
      "outputs": []
    },
    {
      "metadata": {
        "trusted": true,
        "_uuid": "6e7e767c517bdc34ba9691ff62183de5fb65b2ce"
      },
      "cell_type": "code",
      "source": "df[df==NaN].sum()",
      "execution_count": null,
      "outputs": []
    },
    {
      "metadata": {
        "trusted": true,
        "_uuid": "db414cf1ab17f4b6b6e891a3ef18c26cb9b91725"
      },
      "cell_type": "code",
      "source": "",
      "execution_count": null,
      "outputs": []
    }
  ],
  "metadata": {
    "kernelspec": {
      "display_name": "Python 3",
      "language": "python",
      "name": "python3"
    },
    "language_info": {
      "name": "python",
      "version": "3.6.6",
      "mimetype": "text/x-python",
      "codemirror_mode": {
        "name": "ipython",
        "version": 3
      },
      "pygments_lexer": "ipython3",
      "nbconvert_exporter": "python",
      "file_extension": ".py"
    }
  },
  "nbformat": 4,
  "nbformat_minor": 1
}